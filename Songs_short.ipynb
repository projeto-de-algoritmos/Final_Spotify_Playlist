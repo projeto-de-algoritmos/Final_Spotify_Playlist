{
 "cells": [
  {
   "cell_type": "markdown",
   "id": "c2e96bb5",
   "metadata": {},
   "source": [
    "# Playlist Sorter\n",
    "\n",
    "### Importação inicial"
   ]
  },
  {
   "cell_type": "code",
   "execution_count": 1,
   "id": "b6beb27a",
   "metadata": {},
   "outputs": [],
   "source": [
    "import numpy as np\n",
    "from python_tsp.exact import solve_tsp_dynamic_programming\n",
    "from python_tsp.heuristics import solve_tsp_simulated_annealing\n",
    "from random import shuffle\n",
    "import csv"
   ]
  },
  {
   "cell_type": "markdown",
   "id": "6d08a6eb",
   "metadata": {},
   "source": [
    "### Leitor do csv\n",
    "#### Para mudar a playlist coloque o nome do arquivo csv no \"filename\". Se deu certo é pra ter um output \"<csv.reader....\""
   ]
  },
  {
   "cell_type": "code",
   "execution_count": 2,
   "id": "8d39f2b9",
   "metadata": {},
   "outputs": [
    {
     "name": "stdout",
     "output_type": "stream",
     "text": [
      "<_csv.reader object at 0x7f1ee12b8f20>\n"
     ]
    }
   ],
   "source": [
    "filename = \"fallout_4_classical_radio.csv\"\n",
    "\n",
    "def try_type(value):\n",
    "\n",
    "    try:\n",
    "        return int(value)\n",
    "    except ValueError:\n",
    "        try:\n",
    "            return float(value)\n",
    "        except ValueError:\n",
    "            return value\n",
    "\n",
    "with open(filename, \"r\") as csvfile:\n",
    "    reader = csv.reader(csvfile)\n",
    "    header, *tracks = list(reader)\n",
    "    tracks = [\n",
    "        dict(zip(map(lambda h: h.strip(), header), map(try_type, track)))\n",
    "        for track in tracks\n",
    "    ]\n",
    "    \n",
    "print(reader)\n",
    "\n",
    "min_tempo, max_tempo = min(map(lambda track: track[\"Tempo\"], tracks)), max(\n",
    "    map(lambda track: track[\"Tempo\"], tracks)\n",
    ")"
   ]
  },
  {
   "cell_type": "markdown",
   "id": "c30b7306",
   "metadata": {},
   "source": [
    "### Função de calcular as distâncias\n",
    "\n",
    "Criação do grafo com as distâncias determinadas pelas caracteristicas de cada música. Pode se mudar aqui o peso das distâncias na variável \"weights\" para agrupar melhor as caracteristicas com gosto de cada um.\n",
    "\n",
    "* key_weight: Tom da música\n",
    "* tempo_weight: BPM\n",
    "* loudness_weight: O quão alto é a música em média\n",
    "* energy_weight: O quão a música é energetica\n",
    "* valence_weight: A positividade\n",
    "* danceability_weight: O quanto ela é \"dançante\""
   ]
  },
  {
   "cell_type": "code",
   "execution_count": 3,
   "id": "d0ef30ca",
   "metadata": {},
   "outputs": [],
   "source": [
    "def distance_function(track1, track2):\n",
    "\n",
    "\n",
    "    same_mode = track1[\"Mode\"] == track2[\"Mode\"]\n",
    "    key1 = track1[\"Key\"]\n",
    "    key2 = track2[\"Key\"]\n",
    "\n",
    "    if same_mode:\n",
    "        key_diff = min(abs(key1 - key2), 12 - abs(key1 - key2))\n",
    "        if key_diff == 6:\n",
    "            key_distance = 0.5\n",
    "        elif key_diff <= 1:\n",
    "            key_distance = 0\n",
    "        elif key_diff <= 2:\n",
    "            key_distance = 0.5\n",
    "        else:\n",
    "            key_distance = 1\n",
    "    else:\n",
    "        key_distance = 0 if key1 == key2 else 1\n",
    "\n",
    "\n",
    "    tempo1 = (track1[\"Tempo\"] - min_tempo) / (max_tempo - min_tempo)\n",
    "    tempo2 = (track2[\"Tempo\"] - min_tempo) / (max_tempo - min_tempo)\n",
    "    tempo_distance = abs(tempo1 - tempo2)\n",
    "\n",
    "\n",
    "    loudness1 = (track1[\"Loudness\"] - -60) / (0 - -60)\n",
    "    loudness2 = (track2[\"Loudness\"] - -60) / (0 - -60)\n",
    "    loudness_distance = abs(loudness1 - loudness2)\n",
    "\n",
    "\n",
    "    energy_distance = abs(track1[\"Energy\"] - track2[\"Energy\"])\n",
    "    valence_distance = abs(track1[\"Valence\"] - track2[\"Valence\"])\n",
    "    danceability_distance = abs(track1[\"Danceability\"] - track2[\"Danceability\"])\n",
    "\n",
    "    weights = {\n",
    "        \"key_weight\": 3,\n",
    "        \"tempo_weight\": 0,\n",
    "        \"loudness_weight\": 0,\n",
    "        \"energy_weight\": 3,\n",
    "        \"valence_weight\": 44,\n",
    "        \"danceability_weight\": 2,\n",
    "    }\n",
    "\n",
    "    song_distance = sum(\n",
    "        map(\n",
    "            lambda x: weights[x[0]] * x[1],\n",
    "            zip(\n",
    "                weights.keys(),\n",
    "                [\n",
    "                    key_distance,\n",
    "                    tempo_distance,\n",
    "                    loudness_distance,\n",
    "                    energy_distance,\n",
    "                    valence_distance,\n",
    "                    danceability_distance,\n",
    "                ],\n",
    "            ),\n",
    "        )\n",
    "    )\n",
    "    globals().update(locals())\n",
    "    return song_distance\n",
    "\n",
    "distances = np.array(\n",
    "    [[distance_function(track1, track2) for track2 in tracks] for track1 in tracks]\n",
    ")\n",
    "distances[:, 0] = 0 \n",
    "x0 = list(range(len(tracks)))\n",
    "shuffle(x0)\n"
   ]
  },
  {
   "cell_type": "markdown",
   "id": "3e97978b",
   "metadata": {},
   "source": [
    "### Cálculo de melhor caminho pelo \"Travelling Salesman Problem\" para agrupar as musicas e colocalas em CSV\n",
    "\n",
    "Se a playlist for grande essa parte pode demorar pois existem muitas conexões entre as músicas."
   ]
  },
  {
   "cell_type": "code",
   "execution_count": 4,
   "id": "8d03dc60",
   "metadata": {},
   "outputs": [],
   "source": [
    "permutation, distance = solve_tsp_simulated_annealing(distances, x0=x0, alpha=0.999)\n",
    "\n",
    "with open(\"sorted_tracks.csv\", \"w\") as csvfile:\n",
    "    writer = csv.writer(csvfile)\n",
    "    writer.writerow(\n",
    "        [\n",
    "            \"Track\",\n",
    "            \"Old_order\",\n",
    "            \"New_order\",\n",
    "            \"Key\",\n",
    "            \"Mode\",\n",
    "            \"Energy\",\n",
    "            \"Valence\",\n",
    "            \"Danceability\",\n",
    "            \"Tempo\",\n",
    "            \"Loudness\",\n",
    "        ]\n",
    "    )\n",
    "    for new_pos, i in enumerate(permutation):\n",
    "        track = tracks[i]\n",
    "        writer.writerow(\n",
    "            [\n",
    "                track[\"Track Name\"],\n",
    "                tracks.index(tracks[i]) + 1,\n",
    "                new_pos + 1,\n",
    "                track[\"Key\"],\n",
    "                track[\"Mode\"],\n",
    "                track[\"Energy\"],\n",
    "                track[\"Valence\"],\n",
    "                track[\"Danceability\"],\n",
    "                track[\"Tempo\"],\n",
    "                track[\"Loudness\"],\n",
    "            ]\n",
    "        )"
   ]
  },
  {
   "cell_type": "markdown",
   "id": "e3d69910",
   "metadata": {},
   "source": [
    "### Vizualisador das permutações e distancias após o cálculo"
   ]
  },
  {
   "cell_type": "code",
   "execution_count": 5,
   "id": "b5bf6572",
   "metadata": {},
   "outputs": [
    {
     "name": "stdout",
     "output_type": "stream",
     "text": [
      "Introduction and Polonaise brillante in C Major, Op. 3 (arr. E. Feuermann) --> Slavonic March, Op. 31\n",
      "Slavonic March, Op. 31 --> Saint-Saëns: Le carnaval des animaux, R 125: V. L'éléphant\n",
      "Saint-Saëns: Le carnaval des animaux, R 125: V. L'éléphant --> String Quartet No. 12 in E-Flat Major, Op. 127: IV. Finale\n",
      "String Quartet No. 12 in E-Flat Major, Op. 127: IV. Finale --> The Fair at Sorochyntsi: Gopak\n",
      "The Fair at Sorochyntsi: Gopak --> Suite in E minor, BWV 996: III. Courante\n",
      "Suite in E minor, BWV 996: III. Courante --> Hungarian Rhapsody No. 2, S. 359\n",
      "Hungarian Rhapsody No. 2, S. 359 --> Die Walkure, Act III: Ride of the Valkyries\n",
      "Die Walkure, Act III: Ride of the Valkyries --> The Planets, Op. 32: I. Mars - The Bringer Of War\n",
      "The Planets, Op. 32: I. Mars - The Bringer Of War --> Peer Gynt Suite No. 1, Op. 46 : IV. In the Hall of the Mountain King\n",
      "Peer Gynt Suite No. 1, Op. 46 : IV. In the Hall of the Mountain King --> Nocturne, Op. 9 No. 2\n",
      "Nocturne, Op. 9 No. 2 --> Saint-Saëns: Le carnaval des animaux, R 125: IX. Le coucou au fond des bois\n",
      "Saint-Saëns: Le carnaval des animaux, R 125: IX. Le coucou au fond des bois --> Peer Gynt-Suite Nr. 1, Op. 46: I. Morgenstemning (Morning Mood)\n",
      "Peer Gynt-Suite Nr. 1, Op. 46: I. Morgenstemning (Morning Mood) --> Variation IX (Nimrod): Adagio\n",
      "Variation IX (Nimrod): Adagio --> La Mer, L.109: 2. Play Of The Waves (Jeux de vagues)\n",
      "La Mer, L.109: 2. Play Of The Waves (Jeux de vagues) --> Ballade No.1 in G minor, Op.23\n",
      "Ballade No.1 in G minor, Op.23 --> Saint-Saëns: Le carnaval des animaux, R 125: XIII. Le cygne\n",
      "Saint-Saëns: Le carnaval des animaux, R 125: XIII. Le cygne --> Khovanshchina: Prelude\n",
      "Khovanshchina: Prelude --> Nocturnes : 1. Nuages\n",
      "Nocturnes : 1. Nuages --> Scheherazade: I. The Sea & Sinbad's Ship\n",
      "Scheherazade: I. The Sea & Sinbad's Ship --> Consolation No. 3 in D-Flat Major, S. 172/3\n",
      "Consolation No. 3 in D-Flat Major, S. 172/3 --> Tragic Overture, Op. 81\n",
      "Tragic Overture, Op. 81 --> Scenen aus Goethes Faust, WoO 3: Ouverture\n",
      "Scenen aus Goethes Faust, WoO 3: Ouverture --> The Blue Danube\n",
      "The Blue Danube --> Salut d'Amour, Op. 12\n",
      "Salut d'Amour, Op. 12 --> Swan Lake, Op.20, Act I: 9. Finale (Andante)\n",
      "norm_dist: 1.3960238461538463\n",
      "avg_dist_per_track: 0.053693224852071016\n"
     ]
    }
   ],
   "source": [
    "for i, j in zip(permutation, permutation[1:]):\n",
    "    print(tracks[i][\"Track Name\"], \"-->\", tracks[j][\"Track Name\"])\n",
    "\n",
    "normalized_distance = distance / sum(weights.values())\n",
    "avg_distance_per_track = normalized_distance / len(tracks)\n",
    "\n",
    "print(f\"norm_dist: {normalized_distance}\\navg_dist_per_track: {avg_distance_per_track}\")\n"
   ]
  }
 ],
 "metadata": {
  "kernelspec": {
   "display_name": "Python 3 (ipykernel)",
   "language": "python",
   "name": "python3"
  },
  "language_info": {
   "codemirror_mode": {
    "name": "ipython",
    "version": 3
   },
   "file_extension": ".py",
   "mimetype": "text/x-python",
   "name": "python",
   "nbconvert_exporter": "python",
   "pygments_lexer": "ipython3",
   "version": "3.10.6"
  }
 },
 "nbformat": 4,
 "nbformat_minor": 5
}
